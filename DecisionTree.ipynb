{
  "nbformat": 4,
  "nbformat_minor": 0,
  "metadata": {
    "colab": {
      "name": "HW1_DecisionTree_2022.ipynb",
      "provenance": [],
      "collapsed_sections": []
    },
    "kernelspec": {
      "name": "python3",
      "display_name": "Python 3"
    },
    "accelerator": "GPU"
  },
  "cells": [
    {
      "cell_type": "code",
      "metadata": {
        "id": "Iz3iMpjVfa5I",
        "colab": {
          "base_uri": "https://localhost:8080/"
        },
        "outputId": "59984d37-e6f1-45b0-f409-eecddfcfb92d"
      },
      "source": [
        "# Load the Pandas libraries with alias 'pd' \n",
        "import pandas as pd \n",
        "\n",
        "\n",
        "# Read data\n",
        "from google.colab import drive\n",
        "drive.mount('/content/drive')\n",
        "\n",
        "df = pd.read_csv(\"/content/drive/MyDrive/train_hw1.csv\")\n"
      ],
      "execution_count": null,
      "outputs": [
        {
          "output_type": "stream",
          "name": "stdout",
          "text": [
            "Drive already mounted at /content/drive; to attempt to forcibly remount, call drive.mount(\"/content/drive\", force_remount=True).\n"
          ]
        }
      ]
    },
    {
      "cell_type": "code",
      "metadata": {
        "id": "CA_AjGQasjvS",
        "outputId": "b9baa03d-c93d-4d84-97b4-581c105a99d4",
        "colab": {
          "base_uri": "https://localhost:8080/",
          "height": 578
        }
      },
      "source": [
        "# print shape\n",
        "print('Data Dimensionality: ' , end = \"\")\n",
        "print(df.shape)\n",
        "\n",
        "\n",
        "# print the summary for each column\n",
        "print('Data Summary: ')\n",
        "print(df.describe())\n",
        "\n",
        "\n",
        "\n",
        "# print first 5 rows in your dataset\n",
        "print('Head of Data: ')\n",
        "df.head(5)\n",
        "\n",
        "\n",
        "\n"
      ],
      "execution_count": null,
      "outputs": [
        {
          "output_type": "stream",
          "name": "stdout",
          "text": [
            "Data Dimensionality: (6650, 11)\n",
            "Data Summary: \n",
            "               Age       Balance      Vintage  Transaction_Status  \\\n",
            "count  6650.000000  6.650000e+03  6650.000000         6650.000000   \n",
            "mean     41.130226  8.045954e+05     2.250226            0.515789   \n",
            "std       9.685747  5.157549e+05     1.458795            0.499788   \n",
            "min      21.000000  6.300000e+01     0.000000            0.000000   \n",
            "25%      34.000000  3.922642e+05     1.000000            0.000000   \n",
            "50%      40.000000  7.649386e+05     2.000000            1.000000   \n",
            "75%      47.000000  1.147124e+06     3.000000            1.000000   \n",
            "max      72.000000  2.436616e+06     5.000000            1.000000   \n",
            "\n",
            "       Credit_Card     Is_Churn  \n",
            "count  6650.000000  6650.000000  \n",
            "mean      0.664361     0.231128  \n",
            "std       0.472249     0.421586  \n",
            "min       0.000000     0.000000  \n",
            "25%       0.000000     0.000000  \n",
            "50%       1.000000     0.000000  \n",
            "75%       1.000000     0.000000  \n",
            "max       1.000000     1.000000  \n",
            "Head of Data: \n"
          ]
        },
        {
          "output_type": "execute_result",
          "data": {
            "text/plain": [
              "         ID  Age  Gender         Income     Balance  Vintage  \\\n",
              "0  84e2fcc9   36  Female       5L - 10L   563266.44        4   \n",
              "1  57fea15e   53  Female   Less than 5L   875572.11        2   \n",
              "2  8df34ef3   35  Female  More than 15L   701607.06        2   \n",
              "3  c5c0788b   43  Female  More than 15L  1393922.16        0   \n",
              "4  951d69c4   39  Female  More than 15L   893146.23        1   \n",
              "\n",
              "   Transaction_Status Product_Holdings  Credit_Card Credit_Category  Is_Churn  \n",
              "0                   0                1            0         Average         1  \n",
              "1                   1                1            1            Poor         0  \n",
              "2                   1                2            0            Poor         0  \n",
              "3                   1                2            1            Poor         1  \n",
              "4                   1                1            1            Good         1  "
            ],
            "text/html": [
              "\n",
              "  <div id=\"df-d5e99cfb-fe4a-4708-92bf-887eba7b6b93\">\n",
              "    <div class=\"colab-df-container\">\n",
              "      <div>\n",
              "<style scoped>\n",
              "    .dataframe tbody tr th:only-of-type {\n",
              "        vertical-align: middle;\n",
              "    }\n",
              "\n",
              "    .dataframe tbody tr th {\n",
              "        vertical-align: top;\n",
              "    }\n",
              "\n",
              "    .dataframe thead th {\n",
              "        text-align: right;\n",
              "    }\n",
              "</style>\n",
              "<table border=\"1\" class=\"dataframe\">\n",
              "  <thead>\n",
              "    <tr style=\"text-align: right;\">\n",
              "      <th></th>\n",
              "      <th>ID</th>\n",
              "      <th>Age</th>\n",
              "      <th>Gender</th>\n",
              "      <th>Income</th>\n",
              "      <th>Balance</th>\n",
              "      <th>Vintage</th>\n",
              "      <th>Transaction_Status</th>\n",
              "      <th>Product_Holdings</th>\n",
              "      <th>Credit_Card</th>\n",
              "      <th>Credit_Category</th>\n",
              "      <th>Is_Churn</th>\n",
              "    </tr>\n",
              "  </thead>\n",
              "  <tbody>\n",
              "    <tr>\n",
              "      <th>0</th>\n",
              "      <td>84e2fcc9</td>\n",
              "      <td>36</td>\n",
              "      <td>Female</td>\n",
              "      <td>5L - 10L</td>\n",
              "      <td>563266.44</td>\n",
              "      <td>4</td>\n",
              "      <td>0</td>\n",
              "      <td>1</td>\n",
              "      <td>0</td>\n",
              "      <td>Average</td>\n",
              "      <td>1</td>\n",
              "    </tr>\n",
              "    <tr>\n",
              "      <th>1</th>\n",
              "      <td>57fea15e</td>\n",
              "      <td>53</td>\n",
              "      <td>Female</td>\n",
              "      <td>Less than 5L</td>\n",
              "      <td>875572.11</td>\n",
              "      <td>2</td>\n",
              "      <td>1</td>\n",
              "      <td>1</td>\n",
              "      <td>1</td>\n",
              "      <td>Poor</td>\n",
              "      <td>0</td>\n",
              "    </tr>\n",
              "    <tr>\n",
              "      <th>2</th>\n",
              "      <td>8df34ef3</td>\n",
              "      <td>35</td>\n",
              "      <td>Female</td>\n",
              "      <td>More than 15L</td>\n",
              "      <td>701607.06</td>\n",
              "      <td>2</td>\n",
              "      <td>1</td>\n",
              "      <td>2</td>\n",
              "      <td>0</td>\n",
              "      <td>Poor</td>\n",
              "      <td>0</td>\n",
              "    </tr>\n",
              "    <tr>\n",
              "      <th>3</th>\n",
              "      <td>c5c0788b</td>\n",
              "      <td>43</td>\n",
              "      <td>Female</td>\n",
              "      <td>More than 15L</td>\n",
              "      <td>1393922.16</td>\n",
              "      <td>0</td>\n",
              "      <td>1</td>\n",
              "      <td>2</td>\n",
              "      <td>1</td>\n",
              "      <td>Poor</td>\n",
              "      <td>1</td>\n",
              "    </tr>\n",
              "    <tr>\n",
              "      <th>4</th>\n",
              "      <td>951d69c4</td>\n",
              "      <td>39</td>\n",
              "      <td>Female</td>\n",
              "      <td>More than 15L</td>\n",
              "      <td>893146.23</td>\n",
              "      <td>1</td>\n",
              "      <td>1</td>\n",
              "      <td>1</td>\n",
              "      <td>1</td>\n",
              "      <td>Good</td>\n",
              "      <td>1</td>\n",
              "    </tr>\n",
              "  </tbody>\n",
              "</table>\n",
              "</div>\n",
              "      <button class=\"colab-df-convert\" onclick=\"convertToInteractive('df-d5e99cfb-fe4a-4708-92bf-887eba7b6b93')\"\n",
              "              title=\"Convert this dataframe to an interactive table.\"\n",
              "              style=\"display:none;\">\n",
              "        \n",
              "  <svg xmlns=\"http://www.w3.org/2000/svg\" height=\"24px\"viewBox=\"0 0 24 24\"\n",
              "       width=\"24px\">\n",
              "    <path d=\"M0 0h24v24H0V0z\" fill=\"none\"/>\n",
              "    <path d=\"M18.56 5.44l.94 2.06.94-2.06 2.06-.94-2.06-.94-.94-2.06-.94 2.06-2.06.94zm-11 1L8.5 8.5l.94-2.06 2.06-.94-2.06-.94L8.5 2.5l-.94 2.06-2.06.94zm10 10l.94 2.06.94-2.06 2.06-.94-2.06-.94-.94-2.06-.94 2.06-2.06.94z\"/><path d=\"M17.41 7.96l-1.37-1.37c-.4-.4-.92-.59-1.43-.59-.52 0-1.04.2-1.43.59L10.3 9.45l-7.72 7.72c-.78.78-.78 2.05 0 2.83L4 21.41c.39.39.9.59 1.41.59.51 0 1.02-.2 1.41-.59l7.78-7.78 2.81-2.81c.8-.78.8-2.07 0-2.86zM5.41 20L4 18.59l7.72-7.72 1.47 1.35L5.41 20z\"/>\n",
              "  </svg>\n",
              "      </button>\n",
              "      \n",
              "  <style>\n",
              "    .colab-df-container {\n",
              "      display:flex;\n",
              "      flex-wrap:wrap;\n",
              "      gap: 12px;\n",
              "    }\n",
              "\n",
              "    .colab-df-convert {\n",
              "      background-color: #E8F0FE;\n",
              "      border: none;\n",
              "      border-radius: 50%;\n",
              "      cursor: pointer;\n",
              "      display: none;\n",
              "      fill: #1967D2;\n",
              "      height: 32px;\n",
              "      padding: 0 0 0 0;\n",
              "      width: 32px;\n",
              "    }\n",
              "\n",
              "    .colab-df-convert:hover {\n",
              "      background-color: #E2EBFA;\n",
              "      box-shadow: 0px 1px 2px rgba(60, 64, 67, 0.3), 0px 1px 3px 1px rgba(60, 64, 67, 0.15);\n",
              "      fill: #174EA6;\n",
              "    }\n",
              "\n",
              "    [theme=dark] .colab-df-convert {\n",
              "      background-color: #3B4455;\n",
              "      fill: #D2E3FC;\n",
              "    }\n",
              "\n",
              "    [theme=dark] .colab-df-convert:hover {\n",
              "      background-color: #434B5C;\n",
              "      box-shadow: 0px 1px 3px 1px rgba(0, 0, 0, 0.15);\n",
              "      filter: drop-shadow(0px 1px 2px rgba(0, 0, 0, 0.3));\n",
              "      fill: #FFFFFF;\n",
              "    }\n",
              "  </style>\n",
              "\n",
              "      <script>\n",
              "        const buttonEl =\n",
              "          document.querySelector('#df-d5e99cfb-fe4a-4708-92bf-887eba7b6b93 button.colab-df-convert');\n",
              "        buttonEl.style.display =\n",
              "          google.colab.kernel.accessAllowed ? 'block' : 'none';\n",
              "\n",
              "        async function convertToInteractive(key) {\n",
              "          const element = document.querySelector('#df-d5e99cfb-fe4a-4708-92bf-887eba7b6b93');\n",
              "          const dataTable =\n",
              "            await google.colab.kernel.invokeFunction('convertToInteractive',\n",
              "                                                     [key], {});\n",
              "          if (!dataTable) return;\n",
              "\n",
              "          const docLinkHtml = 'Like what you see? Visit the ' +\n",
              "            '<a target=\"_blank\" href=https://colab.research.google.com/notebooks/data_table.ipynb>data table notebook</a>'\n",
              "            + ' to learn more about interactive tables.';\n",
              "          element.innerHTML = '';\n",
              "          dataTable['output_type'] = 'display_data';\n",
              "          await google.colab.output.renderOutput(dataTable, element);\n",
              "          const docLink = document.createElement('div');\n",
              "          docLink.innerHTML = docLinkHtml;\n",
              "          element.appendChild(docLink);\n",
              "        }\n",
              "      </script>\n",
              "    </div>\n",
              "  </div>\n",
              "  "
            ]
          },
          "metadata": {},
          "execution_count": 2
        }
      ]
    },
    {
      "cell_type": "code",
      "source": [
        "\n",
        "df = pd.read_csv(\"/content/drive/MyDrive/CS 412/train_hw1.csv\")\n",
        "# Drop ID column:\n",
        "df = df.drop(columns=['ID'])\n",
        "\n",
        "# Define X:\n",
        "X = df.drop(columns=[ 'Age', 'Gender', 'Income', 'Balance', 'Vintage', 'Transaction_Status', 'Product_Holdings', 'Credit_Card', 'Credit_Category'])\n",
        "\n",
        "# Define y:\n",
        "y = df.drop(columns=['Is_Churn'])\n"
      ],
      "metadata": {
        "id": "7UJr9Wk1czOi"
      },
      "execution_count": null,
      "outputs": []
    },
    {
      "cell_type": "code",
      "metadata": {
        "id": "KEhk8R24xhdY"
      },
      "source": [
        "from sklearn.model_selection import train_test_split\n",
        "\n",
        "# Split 80-20\n",
        "x_train, x_test, y_train, y_test = train_test_split(y, X , test_size = 0.20 , train_size = 0.80 ,shuffle = True)\n",
        "\n",
        "\n",
        "\n",
        "\n"
      ],
      "execution_count": null,
      "outputs": []
    },
    {
      "cell_type": "code",
      "source": [
        "gender_map = {'Female':1, 'Male': 0}\n",
        "\n",
        "Income_map = {'Less than 5L': 1, \n",
        "              '5L - 10L': 2,\n",
        "              '10L - 15L': 3,\n",
        "              'More than 15L': 4}\n",
        "              \n",
        "Credit_Category_map = {'Poor': 1,\n",
        "                       'Average': 2,\n",
        "                       'Good': 3}\n",
        "\n",
        "Product_Holdings_map = {'3+': 3}\n",
        "\n",
        "# You can use replace method to replace the values on training and test sets:\n",
        "ds = [x_train, x_test]\n",
        "for i in ds:\n",
        "  i['Gender'].replace(gender_map,inplace=True)\n",
        "  i['Income'].replace(Income_map,inplace=True)\n",
        "  i['Credit_Category'].replace(Credit_Category_map,inplace=True)\n",
        "  i['Product_Holdings'].replace(Product_Holdings_map,inplace=True)\n",
        "\n",
        "\n",
        "\n"
      ],
      "metadata": {
        "id": "RhHlnruaer4X"
      },
      "execution_count": null,
      "outputs": []
    },
    {
      "cell_type": "code",
      "source": [
        "from sklearn.tree import DecisionTreeClassifier\n",
        "from sklearn.metrics import accuracy_score\n",
        "from sklearn.tree import DecisionTreeClassifier, export_graphviz\n",
        "from sklearn.model_selection import GridSearchCV\n",
        "#from sklearn.cross_validation import  cross_val_score\n",
        "\n",
        "\n",
        "tree_para = {'max_depth':[3, 5, 7, 9, 11]}\n",
        "clf = GridSearchCV(DecisionTreeClassifier(), tree_para, cv=5)\n",
        "clf.fit(x_train, y_train)\n",
        "\n",
        "y_pred = clf.predict(x_train)\n",
        "\n",
        "acc=accuracy_score(y_train, y_pred)\n",
        "print(acc)"
      ],
      "metadata": {
        "colab": {
          "base_uri": "https://localhost:8080/"
        },
        "id": "tZQPuHJLAXZO",
        "outputId": "5ed32208-e80d-4aab-f1c6-214d2c58c7bc"
      },
      "execution_count": null,
      "outputs": [
        {
          "output_type": "stream",
          "name": "stdout",
          "text": [
            "0.7738721804511278\n"
          ]
        }
      ]
    },
    {
      "cell_type": "code",
      "source": [
        "import matplotlib.pyplot as plt\n",
        "\n",
        "print(\"Score\",clf.score(x_train, y_train))\n",
        "\n",
        "print(\"best pams\",clf.best_params_)\n",
        "plt.plot(tree_para['max_depth'],clf.cv_results_['mean_test_score'])"
      ],
      "metadata": {
        "colab": {
          "base_uri": "https://localhost:8080/",
          "height": 316
        },
        "id": "tbrAbAJOtrds",
        "outputId": "aa1ba5f3-7cbe-474d-ccab-19e99b585ba8"
      },
      "execution_count": null,
      "outputs": [
        {
          "output_type": "stream",
          "name": "stdout",
          "text": [
            "Score 0.7738721804511278\n",
            "best pams {'max_depth': 3}\n"
          ]
        },
        {
          "output_type": "execute_result",
          "data": {
            "text/plain": [
              "[<matplotlib.lines.Line2D at 0x7fce78e97f50>]"
            ]
          },
          "metadata": {},
          "execution_count": 7
        },
        {
          "output_type": "display_data",
          "data": {
            "text/plain": [
              "<Figure size 432x288 with 1 Axes>"
            ],
            "image/png": "[encoded data removed]"
          },
          "metadata": {
            "needs_background": "light"
          }
        }
      ]
    },
    {
      "cell_type": "code",
      "metadata": {
        "id": "IPLke8jyFGng",
        "colab": {
          "base_uri": "https://localhost:8080/"
        },
        "outputId": "5a8f16ee-d4d2-4f32-97f8-0434a90027af"
      },
      "source": [
        "# test prediction using a decision tree with all default parameters and ..... min-split value \n",
        "\n",
        "\n",
        "\n",
        "\n",
        "# Report your accuracy\n",
        "from sklearn.metrics import accuracy_score # you can find your scoring metric in this library\n",
        "\n",
        "y_pred = clf.predict(x_test)\n",
        "\n",
        "# Report your accuracy\n",
        "from sklearn.metrics import accuracy_score # you can find your scoring metric in this library\n",
        "acc = accuracy_score(y_test, y_pred)\n",
        "\n",
        "print(\"accuracy: \", acc)\n"
      ],
      "execution_count": null,
      "outputs": [
        {
          "output_type": "stream",
          "name": "stdout",
          "text": [
            "accuracy:  0.7556390977443609\n"
          ]
        }
      ]
    }
  ]
}